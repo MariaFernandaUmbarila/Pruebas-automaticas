{
 "cells": [
  {
   "attachments": {},
   "cell_type": "markdown",
   "metadata": {},
   "source": [
    "## EJECUCIÓN DE CASOS DE PRUEBA AUTOMÁTICOS PARA LA APLICACIÓN TUCAN\n",
    "\n",
    "María Fernanda Umbarila Suárez - Ingeniería de Software III - 20231"
   ]
  },
  {
   "attachments": {},
   "cell_type": "markdown",
   "metadata": {},
   "source": [
    "### Importación de módulos y librerías"
   ]
  },
  {
   "cell_type": "code",
   "execution_count": null,
   "metadata": {},
   "outputs": [],
   "source": [
    "from modules import generarCSV\n",
    "from modules import test_cP001a, test_cP001b, test_cP002a, test_cP002b\n",
    "import pandas as pd\n",
    "from bokeh.plotting import figure\n",
    "from bokeh.io import output_notebook, show\n",
    "from bokeh.resources import INLINE"
   ]
  },
  {
   "attachments": {},
   "cell_type": "markdown",
   "metadata": {},
   "source": [
    "### Escritura de los datos a usar en las pruebas dado un rango"
   ]
  },
  {
   "cell_type": "code",
   "execution_count": null,
   "metadata": {},
   "outputs": [],
   "source": [
    "#Establecer el rango para el CSV\n",
    "generarCSV.rangoA = range(360, 370)\n",
    "#Generar todos los archivos\n",
    "generarCSV.main(13)"
   ]
  },
  {
   "attachments": {},
   "cell_type": "markdown",
   "metadata": {},
   "source": [
    "### Definición de las funciones para ejecutar las pruebas y escribir los resultados en un CSV"
   ]
  },
  {
   "attachments": {},
   "cell_type": "markdown",
   "metadata": {},
   "source": [
    "Funciones para traer los módulos de cada caso de prueba y poder escribir los resultados correspondientes"
   ]
  },
  {
   "attachments": {},
   "cell_type": "markdown",
   "metadata": {},
   "source": [
    "#### Mostrar gráfico con los resultados de cada prueba"
   ]
  },
  {
   "cell_type": "code",
   "execution_count": null,
   "metadata": {},
   "outputs": [],
   "source": [
    "def mostrarGrafico(data):\n",
    "\n",
    "    output_notebook(INLINE)\n",
    "    p = figure(x_range=['Exitosos', 'Fallidos'], height=350, width=400,\n",
    "            title=\"Cantidad de casos exitosos y fallidos\")\n",
    "\n",
    "    p.vbar(x=['Exitosos', 'Fallidos'], color=['green', 'red'],\n",
    "        top=[len(data[data['Resultado']=='Exitosa']), \n",
    "             len(data[data['Resultado']=='Fallida'])], width=0.9)\n",
    "\n",
    "    p.xaxis.axis_label = 'Resultado de la prueba'\n",
    "    p.yaxis.axis_label = 'Cantidad'\n",
    "    p.y_range.start = 0\n",
    "\n",
    "    show(p) "
   ]
  },
  {
   "attachments": {},
   "cell_type": "markdown",
   "metadata": {},
   "source": [
    "#### Caso de prueba 001"
   ]
  },
  {
   "attachments": {},
   "cell_type": "markdown",
   "metadata": {},
   "source": [
    "Registro de un usuario nuevo"
   ]
  },
  {
   "cell_type": "code",
   "execution_count": null,
   "metadata": {},
   "outputs": [],
   "source": [
    "#Llamada del método\n",
    "test_cP001a.TestCP001a.escribirResultado()\n",
    "data = pd.read_csv(\"./results/result_cp001a.csv\")\n",
    "mostrarGrafico(data)"
   ]
  },
  {
   "attachments": {},
   "cell_type": "markdown",
   "metadata": {},
   "source": [
    "Registro de un usuario existente"
   ]
  },
  {
   "cell_type": "code",
   "execution_count": null,
   "metadata": {},
   "outputs": [],
   "source": [
    "#Llamada del método\n",
    "test_cP001b.TestCP001b.escribirResultado()\n",
    "data = pd.read_csv(\"./results/result_cp001b.csv\")\n",
    "mostrarGrafico(data)"
   ]
  },
  {
   "attachments": {},
   "cell_type": "markdown",
   "metadata": {},
   "source": [
    "#### Caso de prueba 002"
   ]
  },
  {
   "attachments": {},
   "cell_type": "markdown",
   "metadata": {},
   "source": [
    "Ingreso de un usuario existente"
   ]
  },
  {
   "cell_type": "code",
   "execution_count": null,
   "metadata": {},
   "outputs": [],
   "source": [
    "#Llamada del método\n",
    "test_cP002a.TestCP002a.escribirResultado()\n",
    "data = pd.read_csv(\"./results/result_cp002a.csv\")\n",
    "mostrarGrafico(data)"
   ]
  },
  {
   "attachments": {},
   "cell_type": "markdown",
   "metadata": {},
   "source": [
    "Ingreso de un usuario que no existe"
   ]
  },
  {
   "cell_type": "code",
   "execution_count": null,
   "metadata": {},
   "outputs": [],
   "source": [
    "#Llamada del método\n",
    "test_cP002b.TestCP002b.escribirResultado()\n",
    "data = pd.read_csv(\"./results/result_cp002b.csv\")\n",
    "mostrarGrafico(data)"
   ]
  },
  {
   "attachments": {},
   "cell_type": "markdown",
   "metadata": {},
   "source": [
    "#### Caso de prueba 003"
   ]
  },
  {
   "cell_type": "markdown",
   "metadata": {},
   "source": [
    "Publicación de un Squawk válido por parte del usuario"
   ]
  },
  {
   "cell_type": "code",
   "execution_count": null,
   "metadata": {},
   "outputs": [],
   "source": [
    "def ejecutarCP003a():\n",
    "\n",
    "    #Llamada del método\n",
    "    nuevaInstancia = cp003a.TestCP003a()\n",
    "    nuevaInstancia.setup_method()\n",
    "    ejecucion = nuevaInstancia.test_cP003a()\n",
    "\n",
    "    #Escribe el resultado en un CSV\n",
    "    with open('results/result_cp003a.csv', 'w+', newline='') as file:\n",
    "        \n",
    "        writer = csv.writer(file)\n",
    "        writer.writerow(['Ejecucion', 'Resultado', 'DatosUsados'])\n",
    "\n",
    "        for i in ejecucion:\n",
    "            writer.writerow([i[0], i[1], i[2]])"
   ]
  },
  {
   "cell_type": "markdown",
   "metadata": {},
   "source": [
    "Publicación de un Squawk no válido por parte del usuario"
   ]
  },
  {
   "cell_type": "code",
   "execution_count": null,
   "metadata": {},
   "outputs": [],
   "source": [
    "def ejecutarCP003b():\n",
    "\n",
    "    #Llamada del método\n",
    "    nuevaInstancia = cp003b.TestCP003b()\n",
    "    nuevaInstancia.setup_method()\n",
    "    ejecucion = nuevaInstancia.test_cP003b()\n",
    "\n",
    "    #Escribe el resultado en un CSV\n",
    "    with open('results/result_cp003b.csv', 'w+', newline='') as file:\n",
    "        \n",
    "        writer = csv.writer(file)\n",
    "        writer.writerow(['Ejecucion', 'Resultado', 'DatosUsados'])\n",
    "\n",
    "        for i in ejecucion:\n",
    "            writer.writerow([i[0], i[1], i[2]])"
   ]
  },
  {
   "attachments": {},
   "cell_type": "markdown",
   "metadata": {},
   "source": [
    "#### Caso de prueba 004"
   ]
  },
  {
   "attachments": {},
   "cell_type": "markdown",
   "metadata": {},
   "source": [
    "Cambio de nombre de usuario por uno no registrado previamente"
   ]
  },
  {
   "cell_type": "code",
   "execution_count": null,
   "metadata": {},
   "outputs": [],
   "source": [
    "def ejecutarCP004a():\n",
    "\n",
    "    #Llamada del método\n",
    "    nuevaInstancia = cp004a.TestCP004a()\n",
    "    nuevaInstancia.setup_method()\n",
    "    ejecucion = nuevaInstancia.test_cP004a()\n",
    "\n",
    "    #Escribe el resultado en un CSV\n",
    "    with open('results/result_cp004a.csv', 'w+', newline='') as file:\n",
    "        \n",
    "        writer = csv.writer(file)\n",
    "        writer.writerow(['Ejecucion', 'Resultado', 'DatosUsados'])\n",
    "\n",
    "        for i in ejecucion:\n",
    "            writer.writerow([i[0], i[1], i[2]])"
   ]
  },
  {
   "attachments": {},
   "cell_type": "markdown",
   "metadata": {},
   "source": [
    "Cambio de nombre de usuario por uno registrado previamente"
   ]
  },
  {
   "cell_type": "code",
   "execution_count": null,
   "metadata": {},
   "outputs": [],
   "source": [
    "def ejecutarCP004b():\n",
    "\n",
    "    #Llamada del método\n",
    "    nuevaInstancia = cp004b.TestCP004b()\n",
    "    nuevaInstancia.setup_method()\n",
    "    ejecucion = nuevaInstancia.test_cP004b()\n",
    "\n",
    "    #Escribe el resultado en un CSV\n",
    "    with open('results/result_cp004b.csv', 'w+', newline='') as file:\n",
    "        \n",
    "        writer = csv.writer(file)\n",
    "        writer.writerow(['Ejecucion', 'Resultado', 'DatosUsados'])\n",
    "\n",
    "        for i in ejecucion:\n",
    "            writer.writerow([i[0], i[1], i[2]])"
   ]
  },
  {
   "attachments": {},
   "cell_type": "markdown",
   "metadata": {},
   "source": [
    "#### Caso de prueba 005"
   ]
  },
  {
   "attachments": {},
   "cell_type": "markdown",
   "metadata": {},
   "source": [
    "Cambio de foto de perfil por una foto válida"
   ]
  },
  {
   "cell_type": "code",
   "execution_count": null,
   "metadata": {},
   "outputs": [],
   "source": [
    "def ejecutarCP005a():\n",
    "\n",
    "    #Llamada del método\n",
    "    nuevaInstancia = cp005a.TestCP005a()\n",
    "    nuevaInstancia.setup_method()\n",
    "    ejecucion = nuevaInstancia.test_cP005a()\n",
    "\n",
    "    #Escribe el resultado en un CSV\n",
    "    with open('results/result_cp005a.csv', 'w+', newline='') as file:\n",
    "        \n",
    "        writer = csv.writer(file)\n",
    "        writer.writerow(['Ejecucion', 'Resultado', 'DatosUsados'])\n",
    "\n",
    "        for i in ejecucion:\n",
    "            writer.writerow([i[0], i[1], i[2]])"
   ]
  },
  {
   "attachments": {},
   "cell_type": "markdown",
   "metadata": {},
   "source": [
    "Cambio de foto de perfil por una foto no válida"
   ]
  },
  {
   "cell_type": "code",
   "execution_count": null,
   "metadata": {},
   "outputs": [],
   "source": [
    "def ejecutarCP005b():\n",
    "\n",
    "    #Llamada del método\n",
    "    nuevaInstancia = cp005b.TestCP005b()\n",
    "    nuevaInstancia.setup_method()\n",
    "    ejecucion = nuevaInstancia.test_cP005b()\n",
    "\n",
    "    #Escribe el resultado en un CSV\n",
    "    with open('results/result_cp005b.csv', 'w+', newline='') as file:\n",
    "        \n",
    "        writer = csv.writer(file)\n",
    "        writer.writerow(['Ejecucion', 'Resultado', 'DatosUsados'])\n",
    "\n",
    "        for i in ejecucion:\n",
    "            writer.writerow([i[0], i[1], i[2]])"
   ]
  },
  {
   "attachments": {},
   "cell_type": "markdown",
   "metadata": {},
   "source": [
    "#### Caso de prueba 006"
   ]
  },
  {
   "attachments": {},
   "cell_type": "markdown",
   "metadata": {},
   "source": [
    "Cambio de contraseña de usuario por una contraseña válida"
   ]
  },
  {
   "cell_type": "code",
   "execution_count": null,
   "metadata": {},
   "outputs": [],
   "source": [
    "def ejecutarCP006a():\n",
    "\n",
    "    #Llamada del método\n",
    "    nuevaInstancia = cp006a.TestCP006a()\n",
    "    nuevaInstancia.setup_method()\n",
    "    ejecucion = nuevaInstancia.test_cP006a()\n",
    "\n",
    "    #Escribe el resultado en un CSV\n",
    "    with open('results/result_cp006a.csv', 'w+', newline='') as file:\n",
    "        \n",
    "        writer = csv.writer(file)\n",
    "        writer.writerow(['Ejecucion', 'Resultado', 'DatosUsados'])\n",
    "\n",
    "        for i in ejecucion:\n",
    "            writer.writerow([i[0], i[1], i[2]])"
   ]
  },
  {
   "attachments": {},
   "cell_type": "markdown",
   "metadata": {},
   "source": [
    "Cambio de contraseña de usuario por una contraseña no válida"
   ]
  },
  {
   "cell_type": "code",
   "execution_count": null,
   "metadata": {},
   "outputs": [],
   "source": [
    "def ejecutarCP006b():\n",
    "\n",
    "    #Llamada del método\n",
    "    nuevaInstancia = cp006b.TestCP006b()\n",
    "    nuevaInstancia.setup_method()\n",
    "    ejecucion = nuevaInstancia.test_cP006b()\n",
    "\n",
    "    #Escribe el resultado en un CSV\n",
    "    with open('results/result_cp006b.csv', 'w+', newline='') as file:\n",
    "        \n",
    "        writer = csv.writer(file)\n",
    "        writer.writerow(['Ejecucion', 'Resultado', 'DatosUsados'])\n",
    "\n",
    "        for i in ejecucion:\n",
    "            writer.writerow([i[0], i[1], i[2]])"
   ]
  },
  {
   "attachments": {},
   "cell_type": "markdown",
   "metadata": {},
   "source": [
    "#### Ejecución de todos los casos"
   ]
  },
  {
   "attachments": {},
   "cell_type": "markdown",
   "metadata": {},
   "source": [
    "Función para ejecutar todos los casos a la vez"
   ]
  },
  {
   "cell_type": "code",
   "execution_count": null,
   "metadata": {},
   "outputs": [],
   "source": [
    "def ejecutarTodos():\n",
    "    ejecutarCP001a(); ejecutarCP001a()\n",
    "    ejecutarCP002a(); ejecutarCP002b()\n",
    "    ejecutarCP003a(); ejecutarCP003b()\n",
    "    ejecutarCP004a(); ejecutarCP004b()\n",
    "    ejecutarCP005a(); ejecutarCP005b()\n",
    "    ejecutarCP006a(); ejecutarCP006b()"
   ]
  },
  {
   "attachments": {},
   "cell_type": "markdown",
   "metadata": {},
   "source": [
    "### Ejecución de los casos de prueba elegidos"
   ]
  }
 ],
 "metadata": {
  "kernelspec": {
   "display_name": "Python 3",
   "language": "python",
   "name": "python3"
  },
  "language_info": {
   "codemirror_mode": {
    "name": "ipython",
    "version": 3
   },
   "file_extension": ".py",
   "mimetype": "text/x-python",
   "name": "python",
   "nbconvert_exporter": "python",
   "pygments_lexer": "ipython3",
   "version": "3.10.9"
  },
  "orig_nbformat": 4
 },
 "nbformat": 4,
 "nbformat_minor": 2
}
